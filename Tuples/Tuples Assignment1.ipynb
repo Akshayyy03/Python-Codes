{
 "cells": [
  {
   "cell_type": "markdown",
   "id": "5317f24b",
   "metadata": {},
   "source": [
    "## Program to create a tuple"
   ]
  },
  {
   "cell_type": "code",
   "execution_count": 1,
   "id": "c967a4c8",
   "metadata": {},
   "outputs": [
    {
     "name": "stdout",
     "output_type": "stream",
     "text": [
      "Enter tuple elements:56879623\n",
      "('5', '6', '8', '7', '9', '6', '2', '3')\n",
      "<class 'tuple'>\n"
     ]
    }
   ],
   "source": [
    "a = tuple(input('Enter tuple elements:'))\n",
    "print(a)\n",
    "print(type(a))"
   ]
  },
  {
   "cell_type": "markdown",
   "id": "a1f52975",
   "metadata": {},
   "source": [
    "## Program to create tuple with different data types"
   ]
  },
  {
   "cell_type": "code",
   "execution_count": 1,
   "id": "5d1c429f",
   "metadata": {},
   "outputs": [
    {
     "name": "stdout",
     "output_type": "stream",
     "text": [
      "('akshay', 8, 6.9, True, 2.8, 'meera', 5)\n",
      "<class 'tuple'>\n"
     ]
    }
   ],
   "source": [
    "t = (\"akshay\",8,6.9,True,2.8,'meera',5)\n",
    "print(t)\n",
    "print(type(t))"
   ]
  },
  {
   "cell_type": "markdown",
   "id": "58a21aa4",
   "metadata": {},
   "source": [
    "## Program to create tuple with numbers and print one item"
   ]
  },
  {
   "cell_type": "code",
   "execution_count": 3,
   "id": "c960963f",
   "metadata": {},
   "outputs": [
    {
     "name": "stdout",
     "output_type": "stream",
     "text": [
      "Enter integers for tuple elements:562387\n",
      "('5', '6', '2', '3', '8', '7')\n",
      "any one integer item in tuple: 3\n"
     ]
    }
   ],
   "source": [
    "a = tuple(input('Enter integers for tuple elements:'))\n",
    "print(a)\n",
    "print(\"any one integer item in tuple:\", int(a[3]))"
   ]
  },
  {
   "cell_type": "markdown",
   "id": "79e09f8c",
   "metadata": {},
   "source": [
    "## Program to add an item in tuple"
   ]
  },
  {
   "cell_type": "code",
   "execution_count": 4,
   "id": "328213d1",
   "metadata": {},
   "outputs": [
    {
     "name": "stdout",
     "output_type": "stream",
     "text": [
      "(2, 3, 6, 7, 18, 17)\n"
     ]
    }
   ],
   "source": [
    "t = (2, 3, 6, 7, 18)\n",
    "t1 = t + (17,)\n",
    "print(t1)"
   ]
  },
  {
   "cell_type": "code",
   "execution_count": 5,
   "id": "b5e89e66",
   "metadata": {},
   "outputs": [
    {
     "name": "stdout",
     "output_type": "stream",
     "text": [
      "[2, 3, 6, 7, 18]\n",
      "(2, 3, 6, 7, 18, 17)\n"
     ]
    }
   ],
   "source": [
    "t = (2, 3, 6, 7, 18)\n",
    "l1 = list(t)\n",
    "print(l1)\n",
    "l1.append(17)\n",
    "t1 = tuple(l1)\n",
    "print(t1)"
   ]
  },
  {
   "cell_type": "markdown",
   "id": "86b6325b",
   "metadata": {},
   "source": [
    "## Program to convert tuple to a string"
   ]
  },
  {
   "cell_type": "code",
   "execution_count": 6,
   "id": "fe881caa",
   "metadata": {},
   "outputs": [
    {
     "name": "stdout",
     "output_type": "stream",
     "text": [
      "Enter tuple elements:523r6fg8\n",
      "('5', '2', '3', 'r', '6', 'f', 'g', '8')\n",
      "<class 'tuple'>\n",
      "('5', '2', '3', 'r', '6', 'f', 'g', '8')\n",
      "<class 'str'>\n"
     ]
    }
   ],
   "source": [
    "t = tuple(input('Enter tuple elements:'))\n",
    "print(t)\n",
    "print(type(t))\n",
    "s = str(t)\n",
    "print(s)\n",
    "print(type(s))"
   ]
  },
  {
   "cell_type": "markdown",
   "id": "fb662708",
   "metadata": {},
   "source": [
    "## Program to get 4th element from first & last of a tuple"
   ]
  },
  {
   "cell_type": "code",
   "execution_count": 7,
   "id": "ddf13a40",
   "metadata": {},
   "outputs": [
    {
     "name": "stdout",
     "output_type": "stream",
     "text": [
      "Enter tuple elements:586432107623\n",
      "('5', '8', '6', '4', '3', '2', '1', '0', '7', '6', '2', '3')\n",
      "5th element from first: 3\n",
      "5th element from last: 0\n"
     ]
    }
   ],
   "source": [
    "t = tuple(input('Enter tuple elements:'))\n",
    "print(t)\n",
    "print('5th element from first:', t[4])\n",
    "print('5th element from last:', t[-5])"
   ]
  }
 ],
 "metadata": {
  "kernelspec": {
   "display_name": "Python 3 (ipykernel)",
   "language": "python",
   "name": "python3"
  },
  "language_info": {
   "codemirror_mode": {
    "name": "ipython",
    "version": 3
   },
   "file_extension": ".py",
   "mimetype": "text/x-python",
   "name": "python",
   "nbconvert_exporter": "python",
   "pygments_lexer": "ipython3",
   "version": "3.9.12"
  }
 },
 "nbformat": 4,
 "nbformat_minor": 5
}
