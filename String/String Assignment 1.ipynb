{
 "cells": [
  {
   "cell_type": "markdown",
   "id": "89e3fd59",
   "metadata": {},
   "source": [
    "### Write a program to reverse the string"
   ]
  },
  {
   "cell_type": "code",
   "execution_count": 1,
   "id": "df3ac079",
   "metadata": {},
   "outputs": [
    {
     "name": "stdout",
     "output_type": "stream",
     "text": [
      "Hello how are you ?\n",
      "? uoy era woh olleH\n"
     ]
    }
   ],
   "source": [
    "a='Hello how are you ?'\n",
    "b=a[::-1]\n",
    "print(a)\n",
    "print(b)"
   ]
  },
  {
   "cell_type": "markdown",
   "id": "4e9cc75a",
   "metadata": {},
   "source": [
    "### Write a program to check whether a given string is palindrome or not"
   ]
  },
  {
   "cell_type": "code",
   "execution_count": 2,
   "id": "e2f71957",
   "metadata": {},
   "outputs": [
    {
     "name": "stdout",
     "output_type": "stream",
     "text": [
      "Enter a word = abcddcba\n",
      "Given string is palindrome\n"
     ]
    }
   ],
   "source": [
    "n=input('Enter a word = ')\n",
    "m=n[::-1]\n",
    "if n==m:\n",
    "    print('Given string is palindrome')\n",
    "else :\n",
    "    print('Given string is not a palindrome')"
   ]
  },
  {
   "cell_type": "markdown",
   "id": "e72ed40b",
   "metadata": {},
   "source": [
    "### Write a program to print length of string without using len() function "
   ]
  },
  {
   "cell_type": "code",
   "execution_count": 3,
   "id": "be9e2655",
   "metadata": {},
   "outputs": [
    {
     "name": "stdout",
     "output_type": "stream",
     "text": [
      "Enter your string :Hi How Are You\n",
      "length of string is :  14\n"
     ]
    }
   ],
   "source": [
    "n=input('Enter your string :')\n",
    "count=0\n",
    "while n[count:]:\n",
    "    count+=1\n",
    "print('length of string is : ',count)"
   ]
  },
  {
   "cell_type": "markdown",
   "id": "ba3f4d18",
   "metadata": {},
   "source": [
    "### Write a program to find length of a string "
   ]
  },
  {
   "cell_type": "code",
   "execution_count": 4,
   "id": "75734651",
   "metadata": {},
   "outputs": [
    {
     "name": "stdout",
     "output_type": "stream",
     "text": [
      "Enter your string :Hello World\n",
      "11\n"
     ]
    }
   ],
   "source": [
    "n=input('Enter your string :')\n",
    "print(len(n))"
   ]
  },
  {
   "cell_type": "markdown",
   "id": "ac8687ae",
   "metadata": {},
   "source": [
    "### Write a program to print only number of characters in a string "
   ]
  },
  {
   "cell_type": "code",
   "execution_count": 5,
   "id": "153dbd09",
   "metadata": {},
   "outputs": [
    {
     "name": "stdout",
     "output_type": "stream",
     "text": [
      "Enter your string =Hello World\n",
      "no.of characters in string = 10\n"
     ]
    }
   ],
   "source": [
    "n=input('Enter your string =')\n",
    "i = 0\n",
    "count = 0\n",
    "while i<len(n):\n",
    "    if n[i].isalpha()==True:\n",
    "        count += 1\n",
    "    i += 1\n",
    "print('no.of characters in string =', count)"
   ]
  },
  {
   "cell_type": "markdown",
   "id": "27a25a7e",
   "metadata": {},
   "source": [
    "### Write a program to take input from user and print it in upper and lower case "
   ]
  },
  {
   "cell_type": "code",
   "execution_count": 6,
   "id": "2d276941",
   "metadata": {},
   "outputs": [
    {
     "name": "stdout",
     "output_type": "stream",
     "text": [
      "Enter your string = Hi How Are You?\n",
      "Converting String to UPPER Case :  HI HOW ARE YOU?\n",
      "Converting String to lower Case :  hi how are you?\n"
     ]
    }
   ],
   "source": [
    "n=input('Enter your string = ')\n",
    "print('Converting String to UPPER Case : ',n.upper())\n",
    "print('Converting String to lower Case : ',n.lower())"
   ]
  }
 ],
 "metadata": {
  "kernelspec": {
   "display_name": "Python 3 (ipykernel)",
   "language": "python",
   "name": "python3"
  },
  "language_info": {
   "codemirror_mode": {
    "name": "ipython",
    "version": 3
   },
   "file_extension": ".py",
   "mimetype": "text/x-python",
   "name": "python",
   "nbconvert_exporter": "python",
   "pygments_lexer": "ipython3",
   "version": "3.9.12"
  }
 },
 "nbformat": 4,
 "nbformat_minor": 5
}
