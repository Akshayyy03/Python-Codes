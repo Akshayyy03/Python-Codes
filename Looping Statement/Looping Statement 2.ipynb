{
 "cells": [
  {
   "cell_type": "markdown",
   "id": "643a8e4b",
   "metadata": {},
   "source": [
    "## Program to check whether a number is palindrome or not"
   ]
  },
  {
   "cell_type": "code",
   "execution_count": 1,
   "id": "84453f51",
   "metadata": {},
   "outputs": [
    {
     "name": "stdout",
     "output_type": "stream",
     "text": [
      "Enter any number = 56765\n",
      "Number is palindrome\n"
     ]
    }
   ],
   "source": [
    "n=int(input('Enter any number = '))\n",
    "temp = n\n",
    "rev = 0\n",
    "while n>0:\n",
    "    rem=n%10\n",
    "    rev=rev*10+rem\n",
    "    n//=10\n",
    "if rev==temp:\n",
    "    print('Number is palindrome')\n",
    "else :\n",
    "    print('Number is not palindrome')"
   ]
  },
  {
   "cell_type": "markdown",
   "id": "3103bf82",
   "metadata": {},
   "source": [
    "## Program to print the factors of a number"
   ]
  },
  {
   "cell_type": "code",
   "execution_count": 2,
   "id": "e24bbfac",
   "metadata": {},
   "outputs": [
    {
     "name": "stdout",
     "output_type": "stream",
     "text": [
      "Enter any number = 8\n",
      "1,2,4,8,"
     ]
    }
   ],
   "source": [
    "n=int(input('Enter any number = '))\n",
    "i=1\n",
    "while i<=n:\n",
    "    if (n % i == 0):\n",
    "        print(i,end=\",\")\n",
    "    i+=1"
   ]
  },
  {
   "cell_type": "markdown",
   "id": "a31105cc",
   "metadata": {},
   "source": [
    "## Program to print reverse of a number"
   ]
  },
  {
   "cell_type": "code",
   "execution_count": 3,
   "id": "648c20cb",
   "metadata": {},
   "outputs": [
    {
     "name": "stdout",
     "output_type": "stream",
     "text": [
      "Enter any number = 123456\n",
      "Reverse of the number is :  654321\n"
     ]
    }
   ],
   "source": [
    "n=int(input('Enter any number = '))\n",
    "temp = n\n",
    "rev=0\n",
    "while n>0:\n",
    "    rem=n%10\n",
    "    rev=rev*10+rem\n",
    "    n//=10\n",
    "print('Reverse of the number is : ',rev)"
   ]
  },
  {
   "cell_type": "markdown",
   "id": "d419524e",
   "metadata": {},
   "source": [
    "### Program to print sum of reverse of a number "
   ]
  },
  {
   "cell_type": "code",
   "execution_count": 1,
   "id": "855d96ea",
   "metadata": {},
   "outputs": [
    {
     "name": "stdout",
     "output_type": "stream",
     "text": [
      "Enter any number = 12345\n",
      "Reverse of the number is :  54321\n",
      "Sum of Reverse of number is :  15\n"
     ]
    }
   ],
   "source": [
    "n=int(input('Enter any number = '))\n",
    "temp=n\n",
    "rev=0\n",
    "sum1=0\n",
    "while n>0:\n",
    "    rem=n%10\n",
    "    rev=rev*10+rem\n",
    "    sum1+=rem\n",
    "    n//=10\n",
    "print('Reverse of the number is : ',rev)\n",
    "print('Sum of Reverse of number is : ',sum1)"
   ]
  },
  {
   "cell_type": "markdown",
   "id": "d8030421",
   "metadata": {},
   "source": [
    "### Program to check whether a number is prime or not\n",
    " "
   ]
  },
  {
   "cell_type": "code",
   "execution_count": 2,
   "id": "0b90d54d",
   "metadata": {},
   "outputs": [
    {
     "name": "stdout",
     "output_type": "stream",
     "text": [
      "enter any number : 7\n",
      "7 is prime number\n"
     ]
    }
   ],
   "source": [
    "n = int(input('enter any number : '))\n",
    "i = 1\n",
    "count = 0\n",
    "for i in range(1,n+1):\n",
    "    if n%i==0:\n",
    "        count = count+1\n",
    "    i+=1\n",
    "if count==2:\n",
    "    print(n, \"is prime number\")\n",
    "else:\n",
    "    print(n, \"is not a prime number\")"
   ]
  },
  {
   "cell_type": "markdown",
   "id": "c312a4d3",
   "metadata": {},
   "source": [
    "### Program to check whether a number is prime or not using while loop"
   ]
  },
  {
   "cell_type": "code",
   "execution_count": 3,
   "id": "4691fd1a",
   "metadata": {},
   "outputs": [
    {
     "name": "stdout",
     "output_type": "stream",
     "text": [
      "Enter any number = 42\n",
      "42 is not a prime number\n"
     ]
    }
   ],
   "source": [
    "n=int(input('Enter any number = '))\n",
    "i=1\n",
    "count=0\n",
    "while i<=n:\n",
    "    if n%i==0:\n",
    "        count+=1\n",
    "    i+=1\n",
    "if count==2:\n",
    "    print(n,'is a prime number')\n",
    "else:\n",
    "    print(n,'is not a prime number')"
   ]
  },
  {
   "cell_type": "markdown",
   "id": "72cb8724",
   "metadata": {},
   "source": [
    "### Program to print reverse order of a number entered by a user "
   ]
  },
  {
   "cell_type": "code",
   "execution_count": 4,
   "id": "965cc40b",
   "metadata": {},
   "outputs": [
    {
     "name": "stdout",
     "output_type": "stream",
     "text": [
      "Enter any number = 14152\n",
      "Reverse of the number is :  25141\n"
     ]
    }
   ],
   "source": [
    "n=int(input('Enter any number = '))\n",
    "temp = n\n",
    "rev=0\n",
    "while n>0:\n",
    "    rem=n%10\n",
    "    rev=rev*10+rem\n",
    "    n//=10\n",
    "print('Reverse of the number is : ',rev)"
   ]
  },
  {
   "cell_type": "markdown",
   "id": "ddd78bcc",
   "metadata": {},
   "source": [
    "### Program to print the cube of all the numbers from 1 to n "
   ]
  },
  {
   "cell_type": "code",
   "execution_count": 5,
   "id": "aba9c827",
   "metadata": {},
   "outputs": [
    {
     "name": "stdout",
     "output_type": "stream",
     "text": [
      "Enter a num = 6\n",
      "Cube of 1 \t:  1\n",
      "Cube of 2 \t:  8\n",
      "Cube of 3 \t:  27\n",
      "Cube of 4 \t:  64\n",
      "Cube of 5 \t:  125\n",
      "Cube of 6 \t:  216\n"
     ]
    }
   ],
   "source": [
    "n=int(input('Enter a num = '))\n",
    "for i in range(n):\n",
    "    i+=1\n",
    "    print('Cube of',i,'\\t: ',i**3)"
   ]
  },
  {
   "cell_type": "markdown",
   "id": "33aa27b0",
   "metadata": {},
   "source": [
    "### Program to print all prime numbers from 1-100 "
   ]
  },
  {
   "cell_type": "code",
   "execution_count": 6,
   "id": "bc858260",
   "metadata": {},
   "outputs": [
    {
     "name": "stdout",
     "output_type": "stream",
     "text": [
      "2 , 3 , 5 , 7 , 11 , 13 , 17 , 19 , 23 , 29 , 31 , 37 , 41 , 43 , 47 , 53 , 59 , 61 , 67 , 71 , 73 , 79 , 83 , 89 , 97 , "
     ]
    }
   ],
   "source": [
    "n = 1\n",
    "while(n <= 100):\n",
    "    count = 0\n",
    "    i = 2\n",
    "    while(i <= n//2):\n",
    "        if(n % i == 0):\n",
    "            count+=1\n",
    "            break\n",
    "        i+=1\n",
    "    if (count == 0 and n != 1):\n",
    "        print(n, end = ' , ')\n",
    "    n+=1"
   ]
  }
 ],
 "metadata": {
  "kernelspec": {
   "display_name": "Python 3 (ipykernel)",
   "language": "python",
   "name": "python3"
  },
  "language_info": {
   "codemirror_mode": {
    "name": "ipython",
    "version": 3
   },
   "file_extension": ".py",
   "mimetype": "text/x-python",
   "name": "python",
   "nbconvert_exporter": "python",
   "pygments_lexer": "ipython3",
   "version": "3.9.12"
  }
 },
 "nbformat": 4,
 "nbformat_minor": 5
}
