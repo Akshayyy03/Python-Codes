{
 "cells": [
  {
   "cell_type": "markdown",
   "id": "3a70c410",
   "metadata": {},
   "source": [
    "### Self Introduction"
   ]
  },
  {
   "cell_type": "code",
   "execution_count": 8,
   "id": "3931430a",
   "metadata": {},
   "outputs": [
    {
     "name": "stdout",
     "output_type": "stream",
     "text": [
      "Hi Arsha welcome to python\n"
     ]
    }
   ],
   "source": [
    "print(\"Hi Akshay welcome to python\")"
   ]
  },
  {
   "cell_type": "markdown",
   "id": "f62f3476",
   "metadata": {},
   "source": [
    "### Addition"
   ]
  },
  {
   "cell_type": "code",
   "execution_count": 2,
   "id": "2e040db2",
   "metadata": {},
   "outputs": [
    {
     "name": "stdout",
     "output_type": "stream",
     "text": [
      "enter n1:6\n",
      "enter n2:8\n",
      "sum = 14\n"
     ]
    }
   ],
   "source": [
    "n1=int(input('enter n1:'))\n",
    "n2=int(input('enter n2:'))\n",
    "sum=n1+n2\n",
    "print('sum =' ,sum)"
   ]
  },
  {
   "cell_type": "markdown",
   "id": "66b88cd0",
   "metadata": {},
   "source": [
    "### Subtraction"
   ]
  },
  {
   "cell_type": "code",
   "execution_count": 3,
   "id": "7a4dcbcb",
   "metadata": {},
   "outputs": [
    {
     "name": "stdout",
     "output_type": "stream",
     "text": [
      "enter n1:8\n",
      "enter n2:4\n",
      "sub =  4\n"
     ]
    }
   ],
   "source": [
    "n1=int(input('enter n1:'))\n",
    "n2=int(input('enter n2:'))\n",
    "sub=n1-n2\n",
    "print('sub = ',sub)"
   ]
  },
  {
   "cell_type": "markdown",
   "id": "7d3a9046",
   "metadata": {},
   "source": [
    "### Multiplication"
   ]
  },
  {
   "cell_type": "code",
   "execution_count": 4,
   "id": "dfa14c92",
   "metadata": {},
   "outputs": [
    {
     "name": "stdout",
     "output_type": "stream",
     "text": [
      "enter n1:3\n",
      "enter n2:7\n",
      "mul = 21\n"
     ]
    }
   ],
   "source": [
    "n1=int(input('enter n1:'))\n",
    "n2=int(input('enter n2:'))\n",
    "mul=n1*n2\n",
    "print('mul =',mul)"
   ]
  },
  {
   "cell_type": "markdown",
   "id": "81a933ce",
   "metadata": {},
   "source": [
    "### Division"
   ]
  },
  {
   "cell_type": "code",
   "execution_count": 5,
   "id": "241dfd2c",
   "metadata": {},
   "outputs": [
    {
     "name": "stdout",
     "output_type": "stream",
     "text": [
      "enter n1:10\n",
      "enter n2:2\n",
      "div= 5.0\n"
     ]
    }
   ],
   "source": [
    "n1=int(input('enter n1:'))\n",
    "n2=int(input('enter n2:'))\n",
    "div=n1/n2\n",
    "print('div=',div)"
   ]
  },
  {
   "cell_type": "markdown",
   "id": "df850587",
   "metadata": {},
   "source": [
    "### Modulus"
   ]
  },
  {
   "cell_type": "code",
   "execution_count": 6,
   "id": "cd8bca96",
   "metadata": {},
   "outputs": [
    {
     "name": "stdout",
     "output_type": "stream",
     "text": [
      "enter n1:18\n",
      "enter n2:3\n",
      "rem= 0\n"
     ]
    }
   ],
   "source": [
    "n1=int(input('enter n1:'))\n",
    "n2=int(input('enter n2:'))\n",
    "rem=n1%n2\n",
    "print('rem=',rem)"
   ]
  },
  {
   "cell_type": "markdown",
   "id": "26bdbeb6",
   "metadata": {},
   "source": [
    "### Exponent"
   ]
  },
  {
   "cell_type": "code",
   "execution_count": 7,
   "id": "4568604b",
   "metadata": {},
   "outputs": [
    {
     "name": "stdout",
     "output_type": "stream",
     "text": [
      "enter n1:2\n",
      "enter n2:3\n",
      "exp= 8\n"
     ]
    }
   ],
   "source": [
    "n1=int(input('enter n1:'))\n",
    "n2=int(input('enter n2:'))\n",
    "exp=n1**n2\n",
    "print('exp=',exp)"
   ]
  },
  {
   "cell_type": "code",
   "execution_count": null,
   "id": "3c4d3ec1",
   "metadata": {},
   "outputs": [],
   "source": []
  }
 ],
 "metadata": {
  "kernelspec": {
   "display_name": "Python 3 (ipykernel)",
   "language": "python",
   "name": "python3"
  },
  "language_info": {
   "codemirror_mode": {
    "name": "ipython",
    "version": 3
   },
   "file_extension": ".py",
   "mimetype": "text/x-python",
   "name": "python",
   "nbconvert_exporter": "python",
   "pygments_lexer": "ipython3",
   "version": "3.9.12"
  }
 },
 "nbformat": 4,
 "nbformat_minor": 5
}
