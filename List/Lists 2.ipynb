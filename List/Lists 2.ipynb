{
 "cells": [
  {
   "cell_type": "markdown",
   "id": "03f01764",
   "metadata": {},
   "source": [
    "## Program to copy a list"
   ]
  },
  {
   "cell_type": "code",
   "execution_count": 1,
   "id": "dd3f3b28",
   "metadata": {},
   "outputs": [
    {
     "name": "stdout",
     "output_type": "stream",
     "text": [
      "enter list items:235698\n",
      "copied list: ['2', '3', '5', '6', '9', '8']\n"
     ]
    }
   ],
   "source": [
    "n = list(input('enter list items:'))\n",
    "m = n.copy()\n",
    "print('copied list:', m)"
   ]
  },
  {
   "cell_type": "markdown",
   "id": "87bebc31",
   "metadata": {},
   "source": [
    "## Program to find second smallest number in list"
   ]
  },
  {
   "cell_type": "code",
   "execution_count": 3,
   "id": "7efc4097",
   "metadata": {},
   "outputs": [
    {
     "name": "stdout",
     "output_type": "stream",
     "text": [
      "Enter list elements separated by space:2 3 4 5 6 5 9 \n",
      "[2, 3, 4, 5, 6, 5, 9]\n",
      "second smallest element: 3\n"
     ]
    }
   ],
   "source": [
    "lst = input('Enter list elements separated by space:')\n",
    "n = lst.split()\n",
    "for i in range(len(n)):\n",
    "    n[i] = int(n[i])\n",
    "print(n)\n",
    "m = sorted(list(set(n)))\n",
    "print(\"second smallest element:\", m[1])\n"
   ]
  },
  {
   "cell_type": "markdown",
   "id": "d9085270",
   "metadata": {},
   "source": [
    "## Program to find second largest number in list"
   ]
  },
  {
   "cell_type": "code",
   "execution_count": 4,
   "id": "bba4c777",
   "metadata": {},
   "outputs": [
    {
     "name": "stdout",
     "output_type": "stream",
     "text": [
      "Enter list elements separated by space:5 6 2 3 4 9 8 7 3 2 1 \n",
      "[5, 6, 2, 3, 4, 9, 8, 7, 3, 2, 1]\n",
      "second largest element: 8\n"
     ]
    }
   ],
   "source": [
    "lst = input('Enter list elements separated by space:')\n",
    "n = lst.split()\n",
    "for i in range(len(n)):\n",
    "    n[i] = int(n[i])\n",
    "print(n)\n",
    "m = sorted(list(set(n)))\n",
    "print(\"second largest element:\", m[-2])"
   ]
  },
  {
   "cell_type": "markdown",
   "id": "f54c2707",
   "metadata": {},
   "source": [
    "## Program to get unique values from list"
   ]
  },
  {
   "cell_type": "code",
   "execution_count": 5,
   "id": "f7d1143a",
   "metadata": {},
   "outputs": [
    {
     "name": "stdout",
     "output_type": "stream",
     "text": [
      "Enter list elements separated by space:4 5 5 6 2 3 7 8 9 \n",
      "['4', '5', '5', '6', '2', '3', '7', '8', '9']\n",
      "unique values of list: ['7', '4', '6', '3', '9', '5', '2', '8']\n"
     ]
    }
   ],
   "source": [
    "lst = input('Enter list elements separated by space:')\n",
    "n = lst.split()\n",
    "print(n)\n",
    "m = list(set(n))\n",
    "print(\"unique values of list:\", m)"
   ]
  },
  {
   "cell_type": "markdown",
   "id": "de5c2571",
   "metadata": {},
   "source": [
    "## Program to find frequency of elements in a list"
   ]
  },
  {
   "cell_type": "code",
   "execution_count": 6,
   "id": "befc23bd",
   "metadata": {},
   "outputs": [
    {
     "name": "stdout",
     "output_type": "stream",
     "text": [
      "Enter list elements:4 5 6 7 8 9 2 3 1 4 7 \n",
      "{'4': 2, '5': 1, '6': 1, '7': 2, '8': 1, '9': 1, '2': 1, '3': 1, '1': 1}\n"
     ]
    }
   ],
   "source": [
    "lst = input('Enter list elements:')\n",
    "l1 = lst.split()\n",
    "l2 = l1\n",
    "c=[0]*len(l2)\n",
    "i,j = 0,0\n",
    "my = dict()\n",
    "for i in range(len(l2)):\n",
    "    for j in range(len(l1)):\n",
    "        if l2[i]==l1[j]:\n",
    "            c[i]+=1\n",
    "    my[l2[i]]=c[i]\n",
    "print(my)"
   ]
  }
 ],
 "metadata": {
  "kernelspec": {
   "display_name": "Python 3 (ipykernel)",
   "language": "python",
   "name": "python3"
  },
  "language_info": {
   "codemirror_mode": {
    "name": "ipython",
    "version": 3
   },
   "file_extension": ".py",
   "mimetype": "text/x-python",
   "name": "python",
   "nbconvert_exporter": "python",
   "pygments_lexer": "ipython3",
   "version": "3.9.12"
  }
 },
 "nbformat": 4,
 "nbformat_minor": 5
}
