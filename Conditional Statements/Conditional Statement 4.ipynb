{
 "cells": [
  {
   "cell_type": "markdown",
   "id": "4b581117",
   "metadata": {},
   "source": [
    "### Program to print bonus of an employee"
   ]
  },
  {
   "cell_type": "code",
   "execution_count": 1,
   "id": "25893776",
   "metadata": {},
   "outputs": [
    {
     "name": "stdout",
     "output_type": "stream",
     "text": [
      "enter salary of employee:15000\n",
      "enter no.of years of service:5\n",
      "net bonus amount = 0\n"
     ]
    }
   ],
   "source": [
    "bas_sal = int(input('enter salary of employee:'))\n",
    "year = int(input('enter no.of years of service:'))\n",
    "if year>5:\n",
    "    bonus = bas_sal*0.05\n",
    "else:\n",
    "    bonus = 0\n",
    "print('net bonus amount =', bonus)"
   ]
  },
  {
   "cell_type": "markdown",
   "id": "6c8ae36c",
   "metadata": {},
   "source": [
    "### Program to take input of length and breadth of a rectangle from user and check if it is square or not"
   ]
  },
  {
   "cell_type": "code",
   "execution_count": 2,
   "id": "76b09cd6",
   "metadata": {},
   "outputs": [
    {
     "name": "stdout",
     "output_type": "stream",
     "text": [
      "enter length of rectangle:8\n",
      "enter breadth of rectangle:7\n",
      "It is not a square\n"
     ]
    }
   ],
   "source": [
    "l = int(input('enter length of rectangle:'))\n",
    "b = int(input('enter breadth of rectangle:'))\n",
    "if l==b:\n",
    "    print(\"It is a square\")\n",
    "else:\n",
    "    print(\"It is not a square\")"
   ]
  },
  {
   "cell_type": "markdown",
   "id": "72b7a409",
   "metadata": {},
   "source": [
    "### Program to print oldest&youngest among 3 people "
   ]
  },
  {
   "cell_type": "code",
   "execution_count": 3,
   "id": "5db89333",
   "metadata": {},
   "outputs": [
    {
     "name": "stdout",
     "output_type": "stream",
     "text": [
      "enter age of first person:23\n",
      "enter age of second person:52\n",
      "enter age of third person:8\n",
      "second person is Oldest\n",
      "third person is youngest\n"
     ]
    }
   ],
   "source": [
    "n1 = int(input('enter age of first person:'))\n",
    "n2 = int(input('enter age of second person:'))\n",
    "n3 = int(input('enter age of third person:'))\n",
    "if (n1>n2 and n1>n3):\n",
    "    print(\"first person is Oldest\")\n",
    "elif (n2>n1 and n2>n3):\n",
    "    print(\"second person is Oldest\")\n",
    "else:\n",
    "    print(\"third person is Oldest\")\n",
    "if (n1<n2 and n1<n3):\n",
    "    print(\"first person is youngest\")\n",
    "elif (n2<n1 and n2<n3):\n",
    "    print(\"second person is youngest\")\n",
    "else:\n",
    "    print(\"third person is youngest\")"
   ]
  }
 ],
 "metadata": {
  "kernelspec": {
   "display_name": "Python 3 (ipykernel)",
   "language": "python",
   "name": "python3"
  },
  "language_info": {
   "codemirror_mode": {
    "name": "ipython",
    "version": 3
   },
   "file_extension": ".py",
   "mimetype": "text/x-python",
   "name": "python",
   "nbconvert_exporter": "python",
   "pygments_lexer": "ipython3",
   "version": "3.9.12"
  }
 },
 "nbformat": 4,
 "nbformat_minor": 5
}
