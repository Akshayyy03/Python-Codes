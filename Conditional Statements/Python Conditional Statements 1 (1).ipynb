{
 "cells": [
  {
   "cell_type": "markdown",
   "id": "4e6a3749",
   "metadata": {},
   "source": [
    "### Program to check whether the number is even or odd"
   ]
  },
  {
   "cell_type": "code",
   "execution_count": 1,
   "id": "0d64c108",
   "metadata": {},
   "outputs": [
    {
     "name": "stdout",
     "output_type": "stream",
     "text": [
      "Enter any number = 6\n",
      "Entered number is even\n"
     ]
    }
   ],
   "source": [
    "# Program to check whether the number is even or odd\n",
    "n=int(input('Enter any number = '))\n",
    "if n%2==0:\n",
    "    print('Entered number is even')\n",
    "else :\n",
    "    print('Entered number is odd')"
   ]
  },
  {
   "cell_type": "markdown",
   "id": "54febbb6",
   "metadata": {},
   "source": [
    "### Program to check the entered alphabet is vowel or consonant"
   ]
  },
  {
   "cell_type": "markdown",
   "id": "15555857",
   "metadata": {
    "scrolled": true
   },
   "source": [
    "\n",
    "c=input('Enter any alphabet =' )\n",
    "if c=='a' or c=='e' or c=='i' or c=='o' or c=='u' or c=='A' or c=='E' or c=='I' or c=='O' or c=='U':\n",
    "    print('Entered alphabet is a vowel')\n",
    "else:\n",
    "    print('Entered alphabet is a consonant')\n",
    "    "
   ]
  },
  {
   "cell_type": "markdown",
   "id": "a13736d3",
   "metadata": {},
   "source": [
    "### Program to check whether a person is elligible to vote or not"
   ]
  },
  {
   "cell_type": "code",
   "execution_count": 1,
   "id": "3dd106d6",
   "metadata": {
    "scrolled": true
   },
   "outputs": [
    {
     "name": "stdout",
     "output_type": "stream",
     "text": [
      "Enter age of the person : 20\n",
      "Person is elligible to vote\n"
     ]
    }
   ],
   "source": [
    "# Program to check whether a person is elligible to vote or not\n",
    "age=int(input('Enter age of the person : '))\n",
    "if age>=18:\n",
    "    print('Person is elligible to vote')\n",
    "else:\n",
    "    print('Person is not elligible to vote')"
   ]
  },
  {
   "cell_type": "markdown",
   "id": "8a678f96",
   "metadata": {},
   "source": [
    "### Program to check whether the entered number is positive,negative,or zero "
   ]
  },
  {
   "cell_type": "code",
   "execution_count": 4,
   "id": "0aa36039",
   "metadata": {
    "scrolled": true
   },
   "outputs": [
    {
     "name": "stdout",
     "output_type": "stream",
     "text": [
      "Enter any number = -8\n",
      "Entered number is negative\n"
     ]
    }
   ],
   "source": [
    "# Program to check whether the entered number is positive,negative, or zero\n",
    "n=int(input('Enter any number = '))\n",
    "if n>0:\n",
    "    print('Entered number is positive')\n",
    "elif n<0:\n",
    "    print('Entered number is negative')\n",
    "elif n==o:\n",
    "    print('Entered number is zero')\n",
    "else:\n",
    "    print('Wrong input')"
   ]
  },
  {
   "cell_type": "markdown",
   "id": "86e0913f",
   "metadata": {},
   "source": [
    "### Program to check whether a given year is a leap year or not"
   ]
  },
  {
   "cell_type": "code",
   "execution_count": 5,
   "id": "cfe19055",
   "metadata": {},
   "outputs": [
    {
     "name": "stdout",
     "output_type": "stream",
     "text": [
      "Enter any year = 2022\n",
      "Entered year is not a leap year\n"
     ]
    }
   ],
   "source": [
    "# Program to check whether a given year is a leap year or not\n",
    "year=int(input('Enter any year = '))\n",
    "if year%4 == 0 :\n",
    "    print('Entered year is a leap year')\n",
    "else:\n",
    "    print('Entered year is not a leap year')"
   ]
  },
  {
   "cell_type": "markdown",
   "id": "b549b52f",
   "metadata": {},
   "source": [
    "### Program to check a triangle is equilateral,isosceles or scalene"
   ]
  },
  {
   "cell_type": "code",
   "execution_count": 1,
   "id": "5af327c2",
   "metadata": {
    "scrolled": true
   },
   "outputs": [
    {
     "name": "stdout",
     "output_type": "stream",
     "text": [
      "Enter length of side 1 : 5\n",
      "Enter length of side 2 : 4\n",
      "Enter length of side 3 : 3\n",
      "Triangle is Scalene\n"
     ]
    }
   ],
   "source": [
    "s1=int(input('Enter length of side 1 : '))\n",
    "s2=int(input('Enter length of side 2 : '))\n",
    "s3=int(input('Enter length of side 3 : '))\n",
    "if s1==s2==s3:\n",
    "    print('Triangle is Equilateral')\n",
    "elif s1==s2 or s2==s3 or s3==s1:\n",
    "    print('Triangle is Isosceles')\n",
    "else:\n",
    "    print('Triangle is Scalene')"
   ]
  },
  {
   "cell_type": "markdown",
   "id": "f925ba63",
   "metadata": {},
   "source": [
    "### Program to check whether after selling a product its profit or loss"
   ]
  },
  {
   "cell_type": "code",
   "execution_count": 3,
   "id": "9a2cd5a5",
   "metadata": {},
   "outputs": [
    {
     "name": "stdout",
     "output_type": "stream",
     "text": [
      "Enter cost price of product : 5\n",
      "Enter selling price of product : 4\n",
      "Loss\n"
     ]
    }
   ],
   "source": [
    "cp=int(input('Enter cost price of product : '))\n",
    "sp=int(input('Enter selling price of product : '))\n",
    "if sp>cp:\n",
    "    print('Profit')\n",
    "elif sp<cp:\n",
    "    print('Loss')\n",
    "else:\n",
    "    print('No profit no loss')"
   ]
  }
 ],
 "metadata": {
  "kernelspec": {
   "display_name": "Python 3 (ipykernel)",
   "language": "python",
   "name": "python3"
  },
  "language_info": {
   "codemirror_mode": {
    "name": "ipython",
    "version": 3
   },
   "file_extension": ".py",
   "mimetype": "text/x-python",
   "name": "python",
   "nbconvert_exporter": "python",
   "pygments_lexer": "ipython3",
   "version": "3.9.12"
  }
 },
 "nbformat": 4,
 "nbformat_minor": 5
}
