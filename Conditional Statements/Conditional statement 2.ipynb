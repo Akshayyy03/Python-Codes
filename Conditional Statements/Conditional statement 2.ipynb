{
 "cells": [
  {
   "cell_type": "markdown",
   "id": "b7aecee7",
   "metadata": {},
   "source": [
    "### Program to enter two numbers and print the greatest number"
   ]
  },
  {
   "cell_type": "code",
   "execution_count": 1,
   "id": "58a8df03",
   "metadata": {
    "scrolled": true
   },
   "outputs": [
    {
     "name": "stdout",
     "output_type": "stream",
     "text": [
      "Enter first num = 5\n",
      "Enter second number = 8\n",
      "Second num is Greater :  8\n"
     ]
    }
   ],
   "source": [
    "n = int(input('Enter first num = '))\n",
    "m=int(input('Enter second number = '))\n",
    "if n>m:\n",
    "    print('FIrst num is Greater : ',n)\n",
    "elif n<m:\n",
    "    print('Second num is Greater : ',m)\n",
    "else :\n",
    "    print('Both num are equal')"
   ]
  },
  {
   "cell_type": "code",
   "execution_count": 3,
   "id": "7ba4c8b1",
   "metadata": {},
   "outputs": [
    {
     "name": "stdout",
     "output_type": "stream",
     "text": [
      "Enter first num = 5\n",
      "Enter second num = 8\n",
      "Greatest num is :  8\n"
     ]
    }
   ],
   "source": [
    "# Program to enter 2 num and print the greatest num\n",
    "n=int(input('Enter first num = '))\n",
    "m=int(input('Enter second num = '))\n",
    "print('Greatest num is : ',max(m,n))"
   ]
  },
  {
   "cell_type": "markdown",
   "id": "9a5e3710",
   "metadata": {},
   "source": [
    "### Program to enter two numbers and print the smallest number"
   ]
  },
  {
   "cell_type": "code",
   "execution_count": 2,
   "id": "034a12bf",
   "metadata": {},
   "outputs": [
    {
     "name": "stdout",
     "output_type": "stream",
     "text": [
      "Enter first num = 9\n",
      "Enter second number6\n",
      "Second num is smallest :  6\n"
     ]
    }
   ],
   "source": [
    "n=int(input('Enter first num = '))\n",
    "m=int(input('Enter second number'))\n",
    "if n<m:\n",
    "    print('First num is smallest : ',n)\n",
    "elif n>m:\n",
    "    print('Second num is smallest : ',m)\n",
    "else :\n",
    "    print('Both num are equal')"
   ]
  },
  {
   "cell_type": "code",
   "execution_count": 5,
   "id": "9b437506",
   "metadata": {},
   "outputs": [
    {
     "name": "stdout",
     "output_type": "stream",
     "text": [
      "Enter first num = 9\n",
      "Enter second num = 6\n",
      "Smallest num is :  6\n"
     ]
    }
   ],
   "source": [
    "# Program to enter two num and print the smallest num\n",
    "n=int(input('Enter first num = '))\n",
    "m=int(input('Enter second num = '))\n",
    "print('Smallest num is : ',min(m,n))"
   ]
  },
  {
   "cell_type": "markdown",
   "id": "b5739ee4",
   "metadata": {},
   "source": [
    "### Program to enter three numbers and print the greatest number"
   ]
  },
  {
   "cell_type": "code",
   "execution_count": 6,
   "id": "3b961676",
   "metadata": {},
   "outputs": [
    {
     "name": "stdout",
     "output_type": "stream",
     "text": [
      "Enter first num = 4\n",
      "Enter second num = 5\n",
      "Enter third num = 6\n",
      "Third num is Greatest :  6\n"
     ]
    }
   ],
   "source": [
    "m=int(input('Enter first num = '))\n",
    "n=int(input('Enter second num = '))\n",
    "o=int(input('Enter third num = '))\n",
    "if m>n and m>o:\n",
    "    print('First num is Greatest : ',m)\n",
    "elif n>m and n>o:\n",
    "    print('Second num is Greatest : ',n)\n",
    "elif o>m and o>n:\n",
    "    print('Third num is Greatest : ',o)\n",
    "else:\n",
    "    print('All numbers are equal')"
   ]
  },
  {
   "cell_type": "code",
   "execution_count": 7,
   "id": "c8665924",
   "metadata": {},
   "outputs": [
    {
     "name": "stdout",
     "output_type": "stream",
     "text": [
      "Enter first num = 4\n",
      "Enter second num = 5\n",
      "Enter third num = 6\n",
      "Greatest num is :  6\n"
     ]
    }
   ],
   "source": [
    "# Program to enter three num and print the greatest num\n",
    "m=int(input('Enter first num = '))\n",
    "n=int(input('Enter second num = '))\n",
    "o=int(input('Enter third num = '))\n",
    "print('Greatest num is : ',max(m,n,o))"
   ]
  },
  {
   "cell_type": "markdown",
   "id": "1788f13e",
   "metadata": {},
   "source": [
    "### Program to enter three numbers and print the smallest number "
   ]
  },
  {
   "cell_type": "code",
   "execution_count": 2,
   "id": "111d6662",
   "metadata": {},
   "outputs": [
    {
     "name": "stdout",
     "output_type": "stream",
     "text": [
      "Enter first num = 5\n",
      "Enter second num = 6\n",
      "Enter third num = 7\n",
      "First num is smallest :  5\n"
     ]
    }
   ],
   "source": [
    "m=int(input('Enter first num = '))\n",
    "n=int(input('Enter second num = '))\n",
    "o=int(input('Enter third num = '))\n",
    "if m<n and m<o:\n",
    "    print('First num is smallest : ',m)\n",
    "elif n<m and n<o:\n",
    "    print('Second num is smallest : ',n)\n",
    "elif o<m and o<n:\n",
    "    print('Third num is smallest : ',o)\n",
    "else:\n",
    "    print('All numbers are equal')"
   ]
  },
  {
   "cell_type": "code",
   "execution_count": 1,
   "id": "46b541d4",
   "metadata": {},
   "outputs": [
    {
     "name": "stdout",
     "output_type": "stream",
     "text": [
      "Enter first num = 5\n",
      "Enter second num = 6\n",
      "Enter third num = 7\n",
      "The smallest number is :  5\n"
     ]
    }
   ],
   "source": [
    "# Program to enter three num and print the smallest num \n",
    "m=int(input('Enter first num = '))\n",
    "n=int(input('Enter second num = '))\n",
    "o=int(input('Enter third num = '))\n",
    "print('The smallest number is : ',min(m,n,o))"
   ]
  },
  {
   "cell_type": "markdown",
   "id": "563df6f1",
   "metadata": {},
   "source": [
    "### Program to calculate roots of quadratic equation "
   ]
  },
  {
   "cell_type": "code",
   "execution_count": 5,
   "id": "c0e334d8",
   "metadata": {},
   "outputs": [
    {
     "name": "stdout",
     "output_type": "stream",
     "text": [
      "Enter value of a = 2\n",
      "Enter value of b = 5\n",
      "Enter value of c = 8\n",
      "Roots of quadratic equation is\n",
      "  (-1.25+1.5612494995995996j)  \n",
      " (-1.25-1.5612494995995996j)\n"
     ]
    }
   ],
   "source": [
    "a=int(input('Enter value of a = '))\n",
    "b=int(input('Enter value of b = '))\n",
    "c=int(input('Enter value of c = '))\n",
    "r1 = (-b+((b**2)-4*a*c)**0.5)/(2*a)\n",
    "r2 = (-b-((b**2)-4*a*c)**0.5)/(2*a)\n",
    "print(\"Roots of quadratic equation is\\n \",r1,' \\n',r2)"
   ]
  },
  {
   "cell_type": "markdown",
   "id": "55557c48",
   "metadata": {},
   "source": [
    "### Program to enter a number between (1-7) and print the respective day of the week"
   ]
  },
  {
   "cell_type": "code",
   "execution_count": 6,
   "id": "30562b9a",
   "metadata": {},
   "outputs": [
    {
     "name": "stdout",
     "output_type": "stream",
     "text": [
      "Enter number from 0-7 = 6\n",
      "Saturday\n"
     ]
    }
   ],
   "source": [
    "n=int(input('Enter number from 0-7 = '))\n",
    "if n == 1:\n",
    "    print('Monday')\n",
    "elif n==2:\n",
    "    print('Tuesday')\n",
    "elif n==3:\n",
    "    print('Wednesday')\n",
    "elif n==4:\n",
    "    print('Thursday')\n",
    "elif n==5:\n",
    "    print('Friday')\n",
    "elif n==6:\n",
    "    print('Saturday')\n",
    "elif n==7:\n",
    "    print('Sunday')\n",
    "else:\n",
    "    print('Wrong input')"
   ]
  }
 ],
 "metadata": {
  "kernelspec": {
   "display_name": "Python 3 (ipykernel)",
   "language": "python",
   "name": "python3"
  },
  "language_info": {
   "codemirror_mode": {
    "name": "ipython",
    "version": 3
   },
   "file_extension": ".py",
   "mimetype": "text/x-python",
   "name": "python",
   "nbconvert_exporter": "python",
   "pygments_lexer": "ipython3",
   "version": "3.9.12"
  }
 },
 "nbformat": 4,
 "nbformat_minor": 5
}
